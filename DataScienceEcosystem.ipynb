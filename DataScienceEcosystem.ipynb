{
 "cells": [
  {
   "cell_type": "markdown",
   "id": "f37243e9",
   "metadata": {},
   "source": [
    "# Data Science Tools and Ecosystem"
   ]
  },
  {
   "cell_type": "markdown",
   "id": "596a1396",
   "metadata": {},
   "source": [
    "In this notebook, Data Science Tools and Ecosystem are summarized."
   ]
  },
  {
   "cell_type": "markdown",
   "id": "bad18ae3",
   "metadata": {},
   "source": [
    "**Objectives:** \n",
    "- List popular languages for Data Science.\n",
    "- List common libraries used by Data Scientist.\n",
    "- Create a table of Data Science Tools.\n",
    "- Simple integer addition and multiplication.\n",
    "- Time conversion."
   ]
  },
  {
   "cell_type": "markdown",
   "id": "aff1aab5",
   "metadata": {},
   "source": [
    "Some of the popular languages that Data Scientists use are:\n",
    "1. Python\n",
    "2. R \n",
    "3. SQL\n",
    "4. Scala\n",
    "5. Java\n",
    "6. C++"
   ]
  },
  {
   "cell_type": "markdown",
   "id": "3d1a0e7b",
   "metadata": {
    "ExecuteTime": {
     "end_time": "2023-08-10T12:46:07.302802Z",
     "start_time": "2023-08-10T12:46:07.279804Z"
    }
   },
   "source": [
    "Some of the commonly used libraries used by Data Scientists include:\n",
    "1. Pandas\n",
    "2. Numpy\n",
    "3. Matplotlib\n",
    "4. Seaborn"
   ]
  },
  {
   "cell_type": "markdown",
   "id": "f3945479",
   "metadata": {},
   "source": [
    "| Data Science Tools |\n",
    "| ------------------ |\n",
    "|Jupyter Notebooks|\n",
    "|JupyterLab|\n",
    "|RStudio|"
   ]
  },
  {
   "cell_type": "markdown",
   "id": "78449d0f",
   "metadata": {},
   "source": [
    "### Below are a few examples of evaluating arithmetic expressions in Python"
   ]
  },
  {
   "cell_type": "code",
   "execution_count": 3,
   "id": "885896d9",
   "metadata": {
    "ExecuteTime": {
     "end_time": "2023-08-10T12:57:56.000384Z",
     "start_time": "2023-08-10T12:57:55.982383Z"
    }
   },
   "outputs": [
    {
     "data": {
      "text/plain": [
       "17"
      ]
     },
     "execution_count": 3,
     "metadata": {},
     "output_type": "execute_result"
    }
   ],
   "source": [
    "# This a simple arithmetic expression to mutiply then add integers\n",
    "(3*4)+5"
   ]
  },
  {
   "cell_type": "code",
   "execution_count": 9,
   "id": "ab821108",
   "metadata": {
    "ExecuteTime": {
     "end_time": "2023-08-10T13:25:41.065616Z",
     "start_time": "2023-08-10T13:25:41.043620Z"
    }
   },
   "outputs": [
    {
     "data": {
      "text/plain": [
       "'3 hours'"
      ]
     },
     "execution_count": 9,
     "metadata": {},
     "output_type": "execute_result"
    }
   ],
   "source": [
    "#  This will convert 200 minutes to hours by diving by 60\n",
    "def get_hours(minutes):\n",
    "    hours = minutes // 60\n",
    "    time_string = \"{} hours\".format(hours)\n",
    "    return time_string\n",
    "get_hours(200)"
   ]
  },
  {
   "cell_type": "markdown",
   "id": "f11062af",
   "metadata": {
    "ExecuteTime": {
     "end_time": "2023-08-10T13:24:57.217468Z",
     "start_time": "2023-08-10T13:24:57.204462Z"
    }
   },
   "source": [
    "## Author\n",
    "Judah Abraham"
   ]
  },
  {
   "cell_type": "code",
   "execution_count": null,
   "id": "b5d4b346",
   "metadata": {},
   "outputs": [],
   "source": []
  }
 ],
 "metadata": {
  "kernelspec": {
   "display_name": "Python 3 (ipykernel)",
   "language": "python",
   "name": "python3"
  },
  "language_info": {
   "codemirror_mode": {
    "name": "ipython",
    "version": 3
   },
   "file_extension": ".py",
   "mimetype": "text/x-python",
   "name": "python",
   "nbconvert_exporter": "python",
   "pygments_lexer": "ipython3",
   "version": "3.9.12"
  },
  "toc": {
   "base_numbering": 1,
   "nav_menu": {},
   "number_sections": true,
   "sideBar": true,
   "skip_h1_title": false,
   "title_cell": "Table of Contents",
   "title_sidebar": "Contents",
   "toc_cell": false,
   "toc_position": {},
   "toc_section_display": true,
   "toc_window_display": false
  },
  "varInspector": {
   "cols": {
    "lenName": 16,
    "lenType": 16,
    "lenVar": 40
   },
   "kernels_config": {
    "python": {
     "delete_cmd_postfix": "",
     "delete_cmd_prefix": "del ",
     "library": "var_list.py",
     "varRefreshCmd": "print(var_dic_list())"
    },
    "r": {
     "delete_cmd_postfix": ") ",
     "delete_cmd_prefix": "rm(",
     "library": "var_list.r",
     "varRefreshCmd": "cat(var_dic_list()) "
    }
   },
   "types_to_exclude": [
    "module",
    "function",
    "builtin_function_or_method",
    "instance",
    "_Feature"
   ],
   "window_display": false
  }
 },
 "nbformat": 4,
 "nbformat_minor": 5
}
